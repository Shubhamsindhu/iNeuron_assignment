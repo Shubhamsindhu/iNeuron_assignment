{
 "cells": [
  {
   "cell_type": "markdown",
   "id": "cabcaf23",
   "metadata": {},
   "source": [
    "Question1-1 Write a Python program to convert kilometers to miles?\n",
    "             #1 kilometre is equal to 0.62137119 miles"
   ]
  },
  {
   "cell_type": "code",
   "execution_count": 5,
   "id": "56f5f107",
   "metadata": {},
   "outputs": [],
   "source": [
    "def km_miles(km):\n",
    "    if type(km)==float:\n",
    "        return km*0.62137119\n",
    "    else:\n",
    "        print(\"enter the valid \")\n",
    "    \n",
    "        "
   ]
  },
  {
   "cell_type": "code",
   "execution_count": 7,
   "id": "d5ce8b79",
   "metadata": {},
   "outputs": [
    {
     "name": "stdout",
     "output_type": "stream",
     "text": [
      "enter km:  45\n",
      "miles in km 27.96170355\n"
     ]
    }
   ],
   "source": [
    "km=float(input(\"enter km:  \"))\n",
    "miles=km_miles(km)\n",
    "print(\"miles in km\",miles)"
   ]
  },
  {
   "cell_type": "markdown",
   "id": "aa4473b9",
   "metadata": {},
   "source": [
    "Question-2 Write a Python program to convert Celsius to Fahrenheit?"
   ]
  },
  {
   "cell_type": "code",
   "execution_count": 10,
   "id": "8cb45ad7",
   "metadata": {},
   "outputs": [],
   "source": [
    "def Cel_Fah(cel):\n",
    "    if type(cel)==float:\n",
    "        return (cel*1.8)+32\n",
    "    else:\n",
    "        print(\"enter the valid \")"
   ]
  },
  {
   "cell_type": "code",
   "execution_count": 11,
   "id": "c3de3ef9",
   "metadata": {},
   "outputs": [
    {
     "name": "stdout",
     "output_type": "stream",
     "text": [
      "enter temp in Celsius:  37\n",
      " Fahrenheit in Celsius 98.60000000000001\n"
     ]
    }
   ],
   "source": [
    "cel=float(input(\"enter temp in Celsius:  \"))\n",
    "Fah=Cel_Fah(cel)\n",
    "print(\" Fahrenheit in Celsius\",Fah)"
   ]
  },
  {
   "cell_type": "markdown",
   "id": "b6d0cb90",
   "metadata": {},
   "source": [
    "Question-3 3.Write a Python program to display calendar?"
   ]
  },
  {
   "cell_type": "code",
   "execution_count": 12,
   "id": "f8f4795e",
   "metadata": {},
   "outputs": [],
   "source": [
    "import calendar"
   ]
  },
  {
   "cell_type": "code",
   "execution_count": 13,
   "id": "19cf0907",
   "metadata": {},
   "outputs": [],
   "source": [
    "def mon():\n",
    "    print(\"To print month of a year u have to enter month number and year number\")\n",
    "    month=int(input(\"enter the month : \"))\n",
    "    year=int(input(\"enter the year : \"))\n",
    "    print(\"the month calender is :\")\n",
    "    print(calendar.month(year, month))"
   ]
  },
  {
   "cell_type": "code",
   "execution_count": 14,
   "id": "6cc38e15",
   "metadata": {},
   "outputs": [
    {
     "name": "stdout",
     "output_type": "stream",
     "text": [
      "To print month of a year u have to enter month number and year number\n",
      "enter the month : 4\n",
      "enter the year : 2022\n",
      "the month calender is :\n",
      "     April 2022\n",
      "Mo Tu We Th Fr Sa Su\n",
      "             1  2  3\n",
      " 4  5  6  7  8  9 10\n",
      "11 12 13 14 15 16 17\n",
      "18 19 20 21 22 23 24\n",
      "25 26 27 28 29 30\n",
      "\n"
     ]
    }
   ],
   "source": [
    "mon()"
   ]
  },
  {
   "cell_type": "code",
   "execution_count": 16,
   "id": "367ad182",
   "metadata": {},
   "outputs": [
    {
     "name": "stdout",
     "output_type": "stream",
     "text": [
      "to print the complete year ,enter Year number\n",
      "enter the year  :2022\n",
      "year calendar is here :\n",
      "                                  2022\n",
      "\n",
      "      January                   February                   March\n",
      "Mo Tu We Th Fr Sa Su      Mo Tu We Th Fr Sa Su      Mo Tu We Th Fr Sa Su\n",
      "                1  2          1  2  3  4  5  6          1  2  3  4  5  6\n",
      " 3  4  5  6  7  8  9       7  8  9 10 11 12 13       7  8  9 10 11 12 13\n",
      "10 11 12 13 14 15 16      14 15 16 17 18 19 20      14 15 16 17 18 19 20\n",
      "17 18 19 20 21 22 23      21 22 23 24 25 26 27      21 22 23 24 25 26 27\n",
      "24 25 26 27 28 29 30      28                        28 29 30 31\n",
      "31\n",
      "\n",
      "       April                      May                       June\n",
      "Mo Tu We Th Fr Sa Su      Mo Tu We Th Fr Sa Su      Mo Tu We Th Fr Sa Su\n",
      "             1  2  3                         1             1  2  3  4  5\n",
      " 4  5  6  7  8  9 10       2  3  4  5  6  7  8       6  7  8  9 10 11 12\n",
      "11 12 13 14 15 16 17       9 10 11 12 13 14 15      13 14 15 16 17 18 19\n",
      "18 19 20 21 22 23 24      16 17 18 19 20 21 22      20 21 22 23 24 25 26\n",
      "25 26 27 28 29 30         23 24 25 26 27 28 29      27 28 29 30\n",
      "                          30 31\n",
      "\n",
      "        July                     August                  September\n",
      "Mo Tu We Th Fr Sa Su      Mo Tu We Th Fr Sa Su      Mo Tu We Th Fr Sa Su\n",
      "             1  2  3       1  2  3  4  5  6  7                1  2  3  4\n",
      " 4  5  6  7  8  9 10       8  9 10 11 12 13 14       5  6  7  8  9 10 11\n",
      "11 12 13 14 15 16 17      15 16 17 18 19 20 21      12 13 14 15 16 17 18\n",
      "18 19 20 21 22 23 24      22 23 24 25 26 27 28      19 20 21 22 23 24 25\n",
      "25 26 27 28 29 30 31      29 30 31                  26 27 28 29 30\n",
      "\n",
      "      October                   November                  December\n",
      "Mo Tu We Th Fr Sa Su      Mo Tu We Th Fr Sa Su      Mo Tu We Th Fr Sa Su\n",
      "                1  2          1  2  3  4  5  6                1  2  3  4\n",
      " 3  4  5  6  7  8  9       7  8  9 10 11 12 13       5  6  7  8  9 10 11\n",
      "10 11 12 13 14 15 16      14 15 16 17 18 19 20      12 13 14 15 16 17 18\n",
      "17 18 19 20 21 22 23      21 22 23 24 25 26 27      19 20 21 22 23 24 25\n",
      "24 25 26 27 28 29 30      28 29 30                  26 27 28 29 30 31\n",
      "31\n",
      "\n"
     ]
    }
   ],
   "source": [
    "print(\"to print the complete year ,enter Year number\")\n",
    "year1=int(input(\"enter the year  :\"))\n",
    "print(\"year calendar is here :\")\n",
    "print(calendar.calendar(year1))"
   ]
  },
  {
   "cell_type": "markdown",
   "id": "d94362c8",
   "metadata": {},
   "source": [
    "Question-4 4. Write a Python program to solve quadratic equation?"
   ]
  },
  {
   "cell_type": "code",
   "execution_count": 29,
   "id": "a3683d7b",
   "metadata": {},
   "outputs": [
    {
     "name": "stdout",
     "output_type": "stream",
     "text": [
      "Enter coff of x**2 ,x ,constant: 3,5,6\n"
     ]
    }
   ],
   "source": [
    "#ax**2+bx+c\n",
    "a, b, c = [int(x) for x in input(\"Enter coff of x**2 ,x ,constant: \").split(',')]"
   ]
  },
  {
   "cell_type": "code",
   "execution_count": 30,
   "id": "4f1afebd",
   "metadata": {},
   "outputs": [
    {
     "name": "stdout",
     "output_type": "stream",
     "text": [
      "coff. of x**2, x and constant are\n",
      "3 5 6\n"
     ]
    }
   ],
   "source": [
    "print(\"coff. of x**2, x and constant are\")\n",
    "print(a,b,c)\n"
   ]
  },
  {
   "cell_type": "code",
   "execution_count": 32,
   "id": "eb278ff1",
   "metadata": {},
   "outputs": [
    {
     "name": "stdout",
     "output_type": "stream",
     "text": [
      "solution of equation are : (-7.5+10.283481900601565j) (-7.5-10.283481900601565j)\n"
     ]
    }
   ],
   "source": [
    "root1=(-b +(b**2 -4*a*c)**0.5)/2*a\n",
    "root2=(-b -(b**2 -4*a*c)**0.5)/2*a\n",
    "print(\"solution of equation are :\", root1,root2)"
   ]
  },
  {
   "cell_type": "markdown",
   "id": "ba37aad4",
   "metadata": {},
   "source": [
    "Question 5 5.Write a Python program to swap two variables without temp variable?"
   ]
  },
  {
   "cell_type": "code",
   "execution_count": 33,
   "id": "76af1660",
   "metadata": {},
   "outputs": [
    {
     "name": "stdout",
     "output_type": "stream",
     "text": [
      "enter first variable\n",
      "23\n",
      "enter second variable\n",
      "do\n",
      "entered variables are 23 do\n",
      "after sawaping variables are do 23\n"
     ]
    }
   ],
   "source": [
    "a=input(\"enter first variable\\n\")\n",
    "b=input(\"enter second variable\\n\")\n",
    "print(\"entered variables are\",a,b)\n",
    "a,b=b,a\n",
    "print(\"after sawaping variables are\",a,b)"
   ]
  },
  {
   "cell_type": "code",
   "execution_count": null,
   "id": "4a0a9b48",
   "metadata": {},
   "outputs": [],
   "source": []
  }
 ],
 "metadata": {
  "kernelspec": {
   "display_name": "Python 3 (ipykernel)",
   "language": "python",
   "name": "python3"
  },
  "language_info": {
   "codemirror_mode": {
    "name": "ipython",
    "version": 3
   },
   "file_extension": ".py",
   "mimetype": "text/x-python",
   "name": "python",
   "nbconvert_exporter": "python",
   "pygments_lexer": "ipython3",
   "version": "3.9.7"
  }
 },
 "nbformat": 4,
 "nbformat_minor": 5
}
