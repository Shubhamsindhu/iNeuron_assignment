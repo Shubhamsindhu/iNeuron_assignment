{
 "cells": [
  {
   "cell_type": "markdown",
   "id": "ec56d07a",
   "metadata": {},
   "source": [
    "# question1 =Expression is made up of values, containers, and mathematical operators (operands) and the statement is just like a command that a python interpreter executes like print.\n",
    "\n",
    "   * is an expression\n",
    "   'hello' is a string so it is a value\n",
    "    -87.8 is a floating point number is it is also a value\n",
    "    - is an expression\n",
    "    / is an expression\n",
    "    + is an expression\n",
    "    6 is an integer it is also a value\n",
    "\n",
    "\n",
    "\n",
    "\n",
    "\n",
    "\n",
    "\n",
    "\n",
    "\n"
   ]
  },
  {
   "cell_type": "markdown",
   "id": "d848d4fd",
   "metadata": {},
   "source": [
    "#question 2  What is the difference between string and variable?\n",
    "variable -> Variables are containers for storing data values.\n",
    "            Python has no command for declaring a variable.\n",
    "            A variable is created the moment you first assign a value to it.\n",
    "string -> string is a datatype .\n",
    "          Strings in python are surrounded by either single quotation marks, or double quotation marks.\n",
    "          \n",
    "\n",
    "\n",
    " \n"
   ]
  },
  {
   "cell_type": "code",
   "execution_count": 4,
   "id": "ee5dd22a",
   "metadata": {},
   "outputs": [
    {
     "name": "stdout",
     "output_type": "stream",
     "text": [
      "5\n",
      "Ram\n"
     ]
    }
   ],
   "source": [
    "# example for the variable.\n",
    "# and string example is Shubham\n",
    "x = 5\n",
    "y = \"Ram\"\n",
    "print(x)\n",
    "print(y)"
   ]
  },
  {
   "cell_type": "markdown",
   "id": "1fd209e8",
   "metadata": {},
   "source": [
    "# Question3 -Describe three different data types.\n",
    "   integer -> to type case into integer we use int()\n",
    "   float    -> to type case into float we use float()\n",
    "    string   -> to type case into string we use str()"
   ]
  },
  {
   "cell_type": "code",
   "execution_count": 6,
   "id": "99576bd6",
   "metadata": {},
   "outputs": [],
   "source": [
    "a='10'\n",
    "a=type(a)\n"
   ]
  },
  {
   "cell_type": "code",
   "execution_count": 8,
   "id": "437779b9",
   "metadata": {},
   "outputs": [
    {
     "data": {
      "text/plain": [
       "int"
      ]
     },
     "execution_count": 8,
     "metadata": {},
     "output_type": "execute_result"
    }
   ],
   "source": [
    "#typecast into int from string\n",
    "a=int(a)\n",
    "type(a)"
   ]
  },
  {
   "cell_type": "code",
   "execution_count": 9,
   "id": "67c8a450",
   "metadata": {},
   "outputs": [
    {
     "data": {
      "text/plain": [
       "float"
      ]
     },
     "execution_count": 9,
     "metadata": {},
     "output_type": "execute_result"
    }
   ],
   "source": [
    "#typecast into float from integer\n",
    "a=float(a)\n",
    "type(a)"
   ]
  },
  {
   "cell_type": "code",
   "execution_count": 10,
   "id": "4f5458fb",
   "metadata": {},
   "outputs": [
    {
     "data": {
      "text/plain": [
       "str"
      ]
     },
     "execution_count": 10,
     "metadata": {},
     "output_type": "execute_result"
    }
   ],
   "source": [
    "#typecast into string from float\n",
    "a=str(a)\n",
    "type(a)"
   ]
  },
  {
   "cell_type": "markdown",
   "id": "4a791953",
   "metadata": {},
   "source": [
    "#question 4 -> What is an expression made up of? What do all expressions do?\n",
    "\n",
    "        expression-> An Expression is a sequence or combination of values, variables, operators and function calls that always produces or returns a result value.\n",
    "        Expression is made up of values,variables,operators and function.\n",
    "        The evaluation of an expression does not changes state and produces at least one value as a result."
   ]
  },
  {
   "cell_type": "markdown",
   "id": "fe9dee68",
   "metadata": {},
   "source": [
    "#question 5-> This assignment statements, like spam = 10. What is the difference between an expression and a statement?\n",
    "           Expression is made up of values, containers, and mathematical operators (operands) and the statement is just like a command that a python interpreter executes like print."
   ]
  },
  {
   "cell_type": "code",
   "execution_count": 11,
   "id": "b2a4a084",
   "metadata": {},
   "outputs": [
    {
     "name": "stdout",
     "output_type": "stream",
     "text": [
      "22\n"
     ]
    }
   ],
   "source": [
    "#question 6-> After running the following code, what does the variable bacon contain?\n",
    "bacon = 22\n",
    "bacon + 1\n",
    "print(bacon)\n",
    "#we are not putting the value back to any variable so bacon will remains same\n"
   ]
  },
  {
   "cell_type": "code",
   "execution_count": 12,
   "id": "c7c33dc8",
   "metadata": {},
   "outputs": [
    {
     "name": "stdout",
     "output_type": "stream",
     "text": [
      "spamspamspam\n",
      "spamspamspam\n"
     ]
    }
   ],
   "source": [
    "#question 7->What should the values of the following two terms be?\n",
    "print('spam' + 'spamspam')\n",
    "# it will concanate both the string\n",
    "print('spam' * 3)\n",
    "# it will make 3 same type of string of same type\n"
   ]
  },
  {
   "cell_type": "code",
   "execution_count": 14,
   "id": "0c7f137a",
   "metadata": {},
   "outputs": [
    {
     "name": "stdout",
     "output_type": "stream",
     "text": [
      "10\n"
     ]
    }
   ],
   "source": [
    "#question 8->Why is eggs a valid variable name while 100 is invalid?\n",
    "eggs=10\n",
    "print(eggs)\n",
    "# eggs is a valid variable beacue variable can start will alphabate \n",
    "#but in case of 100 as a variable name variable name can't start with numeric values\n",
    "\n",
    " \n"
   ]
  },
  {
   "cell_type": "code",
   "execution_count": 16,
   "id": "385b012e",
   "metadata": {},
   "outputs": [
    {
     "ename": "SyntaxError",
     "evalue": "cannot assign to literal (Temp/ipykernel_26520/1523788895.py, line 1)",
     "output_type": "error",
     "traceback": [
      "\u001b[1;36m  File \u001b[1;32m\"C:\\Users\\SHUBHA~1\\AppData\\Local\\Temp/ipykernel_26520/1523788895.py\"\u001b[1;36m, line \u001b[1;32m1\u001b[0m\n\u001b[1;33m    100=10\u001b[0m\n\u001b[1;37m    ^\u001b[0m\n\u001b[1;31mSyntaxError\u001b[0m\u001b[1;31m:\u001b[0m cannot assign to literal\n"
     ]
    }
   ],
   "source": [
    "100=10\n",
    "# error  cannot assign to literal"
   ]
  },
  {
   "cell_type": "code",
   "execution_count": 18,
   "id": "8a32c169",
   "metadata": {},
   "outputs": [
    {
     "data": {
      "text/plain": [
       "''"
      ]
     },
     "execution_count": 18,
     "metadata": {},
     "output_type": "execute_result"
    }
   ],
   "source": [
    "#question 9-> What three functions can be used to get the integer, floating-point number, or string version of a value?\n",
    "\n",
    "int()\n",
    "float()\n",
    "str()\n",
    "#to see the example refer question number 3"
   ]
  },
  {
   "cell_type": "code",
   "execution_count": 19,
   "id": "848448b0",
   "metadata": {},
   "outputs": [
    {
     "ename": "TypeError",
     "evalue": "can only concatenate str (not \"int\") to str",
     "output_type": "error",
     "traceback": [
      "\u001b[1;31m---------------------------------------------------------------------------\u001b[0m",
      "\u001b[1;31mTypeError\u001b[0m                                 Traceback (most recent call last)",
      "\u001b[1;32mC:\\Users\\SHUBHA~1\\AppData\\Local\\Temp/ipykernel_26520/93862574.py\u001b[0m in \u001b[0;36m<module>\u001b[1;34m\u001b[0m\n\u001b[0;32m      1\u001b[0m \u001b[1;31m# question 10->\u001b[0m\u001b[1;33m\u001b[0m\u001b[1;33m\u001b[0m\u001b[0m\n\u001b[1;32m----> 2\u001b[1;33m \u001b[1;34m'I have eaten '\u001b[0m \u001b[1;33m+\u001b[0m \u001b[1;36m99\u001b[0m \u001b[1;33m+\u001b[0m \u001b[1;34m' burritos.'\u001b[0m\u001b[1;33m\u001b[0m\u001b[1;33m\u001b[0m\u001b[0m\n\u001b[0m",
      "\u001b[1;31mTypeError\u001b[0m: can only concatenate str (not \"int\") to str"
     ]
    }
   ],
   "source": [
    "# question 10-> Why does this expression cause an error? How can you fix it?\n",
    "'I have eaten ' + 99 + ' burritos.'\n",
    "#  can only concatenate str (not \"int\") to str\n"
   ]
  },
  {
   "cell_type": "code",
   "execution_count": 20,
   "id": "4ac3a467",
   "metadata": {},
   "outputs": [
    {
     "data": {
      "text/plain": [
       "'I have eaten 99 burritos.'"
      ]
     },
     "execution_count": 20,
     "metadata": {},
     "output_type": "execute_result"
    }
   ],
   "source": [
    "# to overcome it error we can make 99 as string\n",
    "'I have eaten ' + str(99) + ' burritos.'\n"
   ]
  },
  {
   "cell_type": "code",
   "execution_count": null,
   "id": "e2a7dd0e",
   "metadata": {},
   "outputs": [],
   "source": []
  }
 ],
 "metadata": {
  "kernelspec": {
   "display_name": "Python 3 (ipykernel)",
   "language": "python",
   "name": "python3"
  },
  "language_info": {
   "codemirror_mode": {
    "name": "ipython",
    "version": 3
   },
   "file_extension": ".py",
   "mimetype": "text/x-python",
   "name": "python",
   "nbconvert_exporter": "python",
   "pygments_lexer": "ipython3",
   "version": "3.9.7"
  }
 },
 "nbformat": 4,
 "nbformat_minor": 5
}
