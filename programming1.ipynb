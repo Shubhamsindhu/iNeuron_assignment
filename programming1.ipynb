{
 "cells": [
  {
   "cell_type": "code",
   "execution_count": 1,
   "id": "1b0c5abc",
   "metadata": {},
   "outputs": [
    {
     "name": "stdout",
     "output_type": "stream",
     "text": [
      "Hello Python\n"
     ]
    }
   ],
   "source": [
    "#Q1->1.Write a Python program to print \"Hello Python\"?\n",
    "print(\"Hello Python\")"
   ]
  },
  {
   "cell_type": "code",
   "execution_count": 3,
   "id": "ef2fd4d5",
   "metadata": {},
   "outputs": [
    {
     "name": "stdout",
     "output_type": "stream",
     "text": [
      "enter the first number\n",
      "12\n",
      "enter the second number\n",
      "3\n",
      "enter the operator either + or //\n",
      "4.0\n"
     ]
    }
   ],
   "source": [
    "#Q2->2.\tWrite a Python program to do arithmetical operations addition and division.?\n",
    "a=int(input('enter the first number\\n'))\n",
    "b=int(input('enter the second number\\n'))\n",
    "op=input('enter the operator either + or /')\n",
    "if op=='+':\n",
    "    print(a+b)\n",
    "elif op=='/':\n",
    "    print(a/b)\n",
    "else:\n",
    "    print(\"enter valid operator\")"
   ]
  },
  {
   "cell_type": "code",
   "execution_count": 4,
   "id": "933ed0c5",
   "metadata": {},
   "outputs": [
    {
     "name": "stdout",
     "output_type": "stream",
     "text": [
      "enter the base of triangle\n",
      "24\n",
      "enter the height of triangle\n",
      "8\n",
      "Area of a Triange is 96.0\n"
     ]
    }
   ],
   "source": [
    "#Q3-3.Write a Python program to find the area of a triangle?\n",
    "a=int(input('enter the base of triangle\\n'))\n",
    "b=int(input('enter the height of triangle\\n'))\n",
    "area=1/2*a*b\n",
    "print(\"Area of a Triange is {}\".format(area))"
   ]
  },
  {
   "cell_type": "code",
   "execution_count": 6,
   "id": "fc37d1b1",
   "metadata": {},
   "outputs": [
    {
     "name": "stdout",
     "output_type": "stream",
     "text": [
      "enter the first number\n",
      "34\n",
      "enter the second number\n",
      "67\n",
      "initial number in a 34\n",
      "initial value of b 67\n",
      "final number in a 67\n",
      "final value of b 34\n"
     ]
    }
   ],
   "source": [
    "#Q4->Write a Python program to swap two variables?\n",
    "a=int(input('enter the first number\\n'))\n",
    "b=int(input('enter the second number\\n'))\n",
    "print(\"initial number in a {}\".format(a))\n",
    "print(\"initial value of b {}\".format(b))\n",
    "a,b=b,a\n",
    "print(\"final number in a {}\".format(a))\n",
    "print(\"final value of b {}\".format(b))"
   ]
  },
  {
   "cell_type": "code",
   "execution_count": 11,
   "id": "e2fc2327",
   "metadata": {},
   "outputs": [
    {
     "name": "stdout",
     "output_type": "stream",
     "text": [
      "enter the initial number\n",
      "23\n",
      "enter the last number\n",
      "90\n",
      "random number of integer type between 23 and 90 is 85\n"
     ]
    }
   ],
   "source": [
    "#Q5->5Write a Python program to generate a random number?\n",
    "import random\n",
    "a=int(input('enter the initial number\\n'))\n",
    "b=int(input('enter the last number\\n'))\n",
    "n=random.randint(a,b)\n",
    "print(\"random number of integer type between {} and {} is {}\".format(a,b,n))"
   ]
  },
  {
   "cell_type": "code",
   "execution_count": null,
   "id": "83e738c2",
   "metadata": {},
   "outputs": [],
   "source": []
  }
 ],
 "metadata": {
  "kernelspec": {
   "display_name": "Python 3 (ipykernel)",
   "language": "python",
   "name": "python3"
  },
  "language_info": {
   "codemirror_mode": {
    "name": "ipython",
    "version": 3
   },
   "file_extension": ".py",
   "mimetype": "text/x-python",
   "name": "python",
   "nbconvert_exporter": "python",
   "pygments_lexer": "ipython3",
   "version": "3.9.7"
  }
 },
 "nbformat": 4,
 "nbformat_minor": 5
}
