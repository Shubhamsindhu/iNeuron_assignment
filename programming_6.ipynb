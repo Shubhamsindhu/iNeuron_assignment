{
 "cells": [
  {
   "cell_type": "code",
   "execution_count": 1,
   "id": "d5c5343b",
   "metadata": {},
   "outputs": [],
   "source": [
    "# 1.Write a Python Program to Display Fibonacci Sequence Using Recursion?\n",
    "def fab(n):\n",
    "    if n==0:\n",
    "        return 0\n",
    "    elif n==1:\n",
    "        return 1\n",
    "    else :\n",
    "        return fab(n-1)+fab(n-2)"
   ]
  },
  {
   "cell_type": "code",
   "execution_count": 2,
   "id": "086ba13a",
   "metadata": {},
   "outputs": [
    {
     "name": "stdout",
     "output_type": "stream",
     "text": [
      "enter at which number you want the  fab series.  4\n",
      "fab. series is \n",
      "1-> 1\n",
      "2-> 1\n",
      "3-> 2\n",
      "4-> 3\n"
     ]
    }
   ],
   "source": [
    "try:\n",
    "    n=int(input(\"enter at which number you want the  fab series.  \"))\n",
    "except Exception as e:\n",
    "    print(str(e))\n",
    "else:\n",
    "    print(\"fab. series is \")\n",
    "    for i in range(1,n+1):\n",
    "        res=fab(i)\n",
    "        print(str(i)+\"->\",res)\n",
    "        \n"
   ]
  },
  {
   "cell_type": "markdown",
   "id": "bcbffe45",
   "metadata": {},
   "source": [
    "2.Write a Python Program to Find Factorial of Number Using Recursion?"
   ]
  },
  {
   "cell_type": "code",
   "execution_count": 3,
   "id": "3cd9b486",
   "metadata": {},
   "outputs": [],
   "source": [
    "def fact(num):\n",
    "    if num==0:\n",
    "        return 1\n",
    "    elif num==1:\n",
    "        return 1\n",
    "    else:\n",
    "        return num*fact(num-1)"
   ]
  },
  {
   "cell_type": "code",
   "execution_count": 4,
   "id": "2b397a56",
   "metadata": {},
   "outputs": [
    {
     "name": "stdout",
     "output_type": "stream",
     "text": [
      "enter  number you want find factorial  5\n",
      "the factorial of 5 is 120\n"
     ]
    }
   ],
   "source": [
    "try:\n",
    "    n=int(input(\"enter  number you want find factorial  \"))\n",
    "except Exception as e:\n",
    "    print(str(e))\n",
    "else:\n",
    "    print(\"the factorial of {} is {}\".format(n,fact(n)))"
   ]
  },
  {
   "cell_type": "code",
   "execution_count": 5,
   "id": "fc0fffa6",
   "metadata": {},
   "outputs": [],
   "source": [
    "#3.Write a Python Program to calculate your Body Mass Index?"
   ]
  },
  {
   "cell_type": "code",
   "execution_count": 6,
   "id": "f7fef34e",
   "metadata": {},
   "outputs": [
    {
     "name": "stdout",
     "output_type": "stream",
     "text": [
      "enter your weight in kg85\n",
      "enter your height in meters1.76\n",
      "your weight is 85.0 in kgs and your height is 1.76 in meters so your BMI Score is 27.44059917355372\n"
     ]
    }
   ],
   "source": [
    "weight=float(input(\"enter your weight in kg \"))\n",
    "height=float(input(\"enter your height in meters \"))\n",
    "BMI= weight/(height**2)\n",
    "\n",
    "print(\"your weight is {} in kgs and your height is {} in meters so your BMI Score is {}\".format(weight,height,BMI))"
   ]
  },
  {
   "cell_type": "code",
   "execution_count": 7,
   "id": "a370b8c1",
   "metadata": {},
   "outputs": [],
   "source": [
    "#5.Write a Python Program for cube sum of first n natural numbers?"
   ]
  },
  {
   "cell_type": "code",
   "execution_count": 8,
   "id": "d1536b74",
   "metadata": {},
   "outputs": [
    {
     "name": "stdout",
     "output_type": "stream",
     "text": [
      "enter the number from which u want to get the cube sum  3\n",
      "cube sum of first 3 natural number is 36\n"
     ]
    }
   ],
   "source": [
    "num=int(input(\"enter the number from which u want to get the cube sum  \"))\n",
    "cube_sum=((num**2)*((num+1)**2))/4\n",
    "print(\"cube sum of first {} natural number is {}\".format(num,int(cube_sum)))"
   ]
  },
  {
   "cell_type": "code",
   "execution_count": 9,
   "id": "4f07c35f",
   "metadata": {},
   "outputs": [],
   "source": [
    "#4.\tWrite a Python Program to calculate the natural logarithm of any number?"
   ]
  },
  {
   "cell_type": "code",
   "execution_count": 10,
   "id": "ceaad8fe",
   "metadata": {},
   "outputs": [],
   "source": [
    "import math"
   ]
  },
  {
   "cell_type": "code",
   "execution_count": 11,
   "id": "d203b6f0",
   "metadata": {},
   "outputs": [
    {
     "name": "stdout",
     "output_type": "stream",
     "text": [
      "enter the number whose log you want to find  23\n",
      "you want to give your base if yes enter yes else noyes\n",
      "enter your base4\n",
      "your log of value 23 is 2.2617809780285065\n"
     ]
    }
   ],
   "source": [
    "num=int(input(\"enter the number whose log you want to find  \"))\n",
    "base=(input(\"you want to give your base if yes enter yes else no\"))\n",
    "if base=='yes':\n",
    "    getbase=int(input(\"enter your base\"))\n",
    "    print(\"your log of value {} is {}\".format(num,math.log(num,getbase)))\n",
    "else :\n",
    "    print(\"your log of value {} is {} using default base e \".format(num,math.log(num)))\n",
    "    \n",
    "    \n"
   ]
  },
  {
   "cell_type": "code",
   "execution_count": null,
   "id": "68f3f078",
   "metadata": {},
   "outputs": [],
   "source": []
  }
 ],
 "metadata": {
  "kernelspec": {
   "display_name": "Python 3 (ipykernel)",
   "language": "python",
   "name": "python3"
  },
  "language_info": {
   "codemirror_mode": {
    "name": "ipython",
    "version": 3
   },
   "file_extension": ".py",
   "mimetype": "text/x-python",
   "name": "python",
   "nbconvert_exporter": "python",
   "pygments_lexer": "ipython3",
   "version": "3.9.7"
  }
 },
 "nbformat": 4,
 "nbformat_minor": 5
}
