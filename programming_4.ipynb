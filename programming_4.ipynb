{
 "cells": [
  {
   "cell_type": "markdown",
   "id": "6a7aed77",
   "metadata": {},
   "source": [
    "Question1-1.Write a Python Program to Find the Factorial of a Number?\n",
    "        "
   ]
  },
  {
   "cell_type": "code",
   "execution_count": 12,
   "id": "3446034e",
   "metadata": {},
   "outputs": [],
   "source": [
    "def fact(n):\n",
    "    if n<0:\n",
    "        print(\"enter positive value\")\n",
    "    elif n==0:\n",
    "        return 1\n",
    "    elif n==1:\n",
    "        return 1\n",
    "    else:\n",
    "        return n*fact(n-1)"
   ]
  },
  {
   "cell_type": "code",
   "execution_count": 13,
   "id": "2f5e5ba5",
   "metadata": {},
   "outputs": [
    {
     "name": "stdout",
     "output_type": "stream",
     "text": [
      "enter the value5\n",
      "factoial of the number 120\n"
     ]
    }
   ],
   "source": [
    "x=int(input(\"enter the value\"))\n",
    "\n",
    "print(\"factoial of the number\",fact(x))"
   ]
  },
  {
   "cell_type": "markdown",
   "id": "a452220d",
   "metadata": {},
   "source": [
    "Question2-2.Write a Python Program to Display the multiplication Table?\n"
   ]
  },
  {
   "cell_type": "code",
   "execution_count": 19,
   "id": "5bdee7bf",
   "metadata": {},
   "outputs": [
    {
     "name": "stdout",
     "output_type": "stream",
     "text": [
      "enter which table we want to print 23\n",
      "23*1=23\n",
      "23*2=46\n",
      "23*3=69\n",
      "23*4=92\n",
      "23*5=115\n",
      "23*6=138\n",
      "23*7=161\n",
      "23*8=184\n",
      "23*9=207\n",
      "23*10=230\n"
     ]
    }
   ],
   "source": [
    "num=int(input(\"enter which table we want to print \"))\n",
    "for i in range(1,11):\n",
    "    print(str(num) +\"*\"+ str(i)+ \"=\" +str(num*i))"
   ]
  },
  {
   "cell_type": "markdown",
   "id": "5ede348c",
   "metadata": {},
   "source": [
    "Question3-3.Write a Python Program to Print the Fibonacci sequence?"
   ]
  },
  {
   "cell_type": "code",
   "execution_count": 20,
   "id": "515b02e8",
   "metadata": {},
   "outputs": [],
   "source": [
    "def fab(n):\n",
    "    if n<0:\n",
    "        print(\"enter valid choice\")\n",
    "    elif n==0:\n",
    "        return 0\n",
    "    elif n==1:\n",
    "        return 1\n",
    "    else:\n",
    "        return fab(n-1)+fab(n-2)\n",
    "    "
   ]
  },
  {
   "cell_type": "code",
   "execution_count": 25,
   "id": "b993d16c",
   "metadata": {},
   "outputs": [
    {
     "name": "stdout",
     "output_type": "stream",
     "text": [
      "enter the number from which we want our fab. series10\n",
      "1\n",
      "1\n",
      "2\n",
      "3\n",
      "5\n",
      "8\n",
      "13\n",
      "21\n",
      "34\n",
      "55\n"
     ]
    }
   ],
   "source": [
    "num=int(input(\"enter the number from which we want our fab. series\"))\n",
    "for i in range(1,num+1):\n",
    "    print(fab(i))"
   ]
  },
  {
   "cell_type": "markdown",
   "id": "482878ec",
   "metadata": {},
   "source": [
    "Question-4 4.Write a Python Program to Check Armstrong Number?"
   ]
  },
  {
   "cell_type": "code",
   "execution_count": 39,
   "id": "80bd9c64",
   "metadata": {},
   "outputs": [
    {
     "name": "stdout",
     "output_type": "stream",
     "text": [
      "enter the number which we want to check Armstrong Number 2\n",
      "2 is Armstrong Number \n"
     ]
    }
   ],
   "source": [
    "num=int(input(\"enter the number which we want to check Armstrong Number \"))\n",
    "sum=0\n",
    "n=len(str(num))\n",
    "\n",
    "for i in str(num):\n",
    "    sum=sum+(int(i)**n)\n",
    "if sum==num:\n",
    "    print(num,\"is Armstrong Number \")\n",
    "else:\n",
    "    print(num,\"is not a Armstrong Number\")\n",
    "    \n"
   ]
  },
  {
   "cell_type": "markdown",
   "id": "4d7dc5ef",
   "metadata": {},
   "source": [
    "Question5- 5.Write a Python Program to Find Armstrong Number in an Interval?"
   ]
  },
  {
   "cell_type": "code",
   "execution_count": 48,
   "id": "2c9a5257",
   "metadata": {},
   "outputs": [
    {
     "name": "stdout",
     "output_type": "stream",
     "text": [
      "Enter start - end range from which we want to get Arm number 1-10000\n",
      "1\n",
      "2\n",
      "3\n",
      "4\n",
      "5\n",
      "6\n",
      "7\n",
      "8\n",
      "9\n",
      "153\n",
      "370\n",
      "371\n",
      "407\n",
      "1634\n",
      "8208\n",
      "9474\n"
     ]
    }
   ],
   "source": [
    "def check_arm(num):\n",
    "    sum=0\n",
    "    n=len(str(num))\n",
    "    for i in str(num):\n",
    "        sum=sum+(int(i)**n)\n",
    "    if sum==num:\n",
    "        return num\n",
    "    else:\n",
    "        return \n",
    "l=[]\n",
    "start,end = [int(x) for x in input(\"Enter start - end range from which we want to get Arm number \").split('-')]\n",
    "for i in range(start,end+1):\n",
    "    l.append(check_arm(i))\n",
    "for i in l:\n",
    "    if type(i)==int:\n",
    "        print(i)\n",
    "\n",
    "\n",
    "    "
   ]
  },
  {
   "cell_type": "markdown",
   "id": "62122f13",
   "metadata": {},
   "source": [
    "Question6-6.Write a Python Program to Find the Sum of Natural Numbers?"
   ]
  },
  {
   "cell_type": "code",
   "execution_count": 27,
   "id": "18a03ffa",
   "metadata": {},
   "outputs": [
    {
     "name": "stdout",
     "output_type": "stream",
     "text": [
      "enter the number at which we want the sum of natural number3\n",
      "sum is  6.0\n"
     ]
    }
   ],
   "source": [
    "num=int(input(\"enter the number at which we want the sum of natural number\"))\n",
    "print(\"sum is \",(num*(num+1))/2)"
   ]
  },
  {
   "cell_type": "code",
   "execution_count": null,
   "id": "a7396017",
   "metadata": {},
   "outputs": [],
   "source": []
  }
 ],
 "metadata": {
  "kernelspec": {
   "display_name": "Python 3 (ipykernel)",
   "language": "python",
   "name": "python3"
  },
  "language_info": {
   "codemirror_mode": {
    "name": "ipython",
    "version": 3
   },
   "file_extension": ".py",
   "mimetype": "text/x-python",
   "name": "python",
   "nbconvert_exporter": "python",
   "pygments_lexer": "ipython3",
   "version": "3.9.7"
  }
 },
 "nbformat": 4,
 "nbformat_minor": 5
}
