{
 "cells": [
  {
   "cell_type": "markdown",
   "id": "1d19b194",
   "metadata": {},
   "source": [
    "Question 1-> 1.Write a Python Program to find sum of array?"
   ]
  },
  {
   "cell_type": "code",
   "execution_count": 2,
   "id": "a14d90bc",
   "metadata": {},
   "outputs": [
    {
     "name": "stdout",
     "output_type": "stream",
     "text": [
      "enter how many number are their in the array  4\n",
      "enter 1 element in the array 23\n",
      "enter 2 element in the array 34\n",
      "enter 3 element in the array 56\n",
      "enter 4 element in the array 45\n",
      "sum of the array is 158\n"
     ]
    }
   ],
   "source": [
    " arr=[]\n",
    "n=int(input(\"enter how many number are their in the array  \" ))\n",
    "for i in range(0,n):\n",
    "    ele=int(input(\"enter \"+str(i+1)+\" element in the array \"))\n",
    "    arr.append(ele)\n",
    "sum=0\n",
    "for i in arr:\n",
    "    sum=sum+i\n",
    "print(\"sum of the array is {}\".format(sum))\n",
    "    "
   ]
  },
  {
   "cell_type": "code",
   "execution_count": 3,
   "id": "8ee07577",
   "metadata": {},
   "outputs": [
    {
     "name": "stdout",
     "output_type": "stream",
     "text": [
      "enter how many number are their in the array  5\n",
      "enter 1 element in the array 2\n",
      "enter 2 element in the array 4\n",
      "enter 3 element in the array 6\n",
      "enter 4 element in the array 1\n",
      "enter 5 element in the array 0\n",
      "max element of the array is 6\n"
     ]
    }
   ],
   "source": [
    " arr=[]\n",
    "n=int(input(\"enter how many number are their in the array  \" ))\n",
    "for i in range(0,n):\n",
    "    ele=int(input(\"enter \"+str(i+1)+\" element in the array \"))\n",
    "    arr.append(ele)\n",
    "maximum=0\n",
    "for i in arr:\n",
    "    if i>maximum:\n",
    "        maximum=i\n",
    "print(\"max element of the array is {}\".format(maximum))\n"
   ]
  },
  {
   "cell_type": "code",
   "execution_count": 19,
   "id": "fe09b599",
   "metadata": {},
   "outputs": [
    {
     "name": "stdout",
     "output_type": "stream",
     "text": [
      "enter how many number are their in the array  5\n",
      "enter 1 element in the array 67\n",
      "enter 2 element in the array 89\n",
      "enter 3 element in the array 67\n",
      "enter 4 element in the array 45\n",
      "enter 5 element in the array 34\n",
      "after rotation elements of array are:\n",
      "34\n",
      "45\n",
      "67\n",
      "89\n",
      "67\n"
     ]
    }
   ],
   "source": [
    " arr=[]\n",
    "n=int(input(\"enter how many number are their in the array  \" ))\n",
    "for i in range(0,n):\n",
    "    ele=int(input(\"enter \"+str(i+1)+\" element in the array \"))\n",
    "    arr.append(ele)\n",
    "print(\"after rotation elements of array are:\")\n",
    "for i in  range(len(arr)-1,-1,-1):\n",
    "    print(arr[i])"
   ]
  },
  {
   "cell_type": "code",
   "execution_count": 36,
   "id": "ab80a87b",
   "metadata": {},
   "outputs": [],
   "source": [
    "\n",
    "def splitArr(a,n,k):\n",
    "    b=a[:k]\n",
    "    return (a[k::]+b[::])"
   ]
  },
  {
   "cell_type": "code",
   "execution_count": 39,
   "id": "e6651349",
   "metadata": {},
   "outputs": [
    {
     "name": "stdout",
     "output_type": "stream",
     "text": [
      "enter how many number are their in the array  4\n",
      "enter 1 element in the array 3\n",
      "enter 2 element in the array 5\n",
      "enter 3 element in the array 7\n",
      "enter 4 element in the array 9\n",
      "enter the index after which u want to split 2\n",
      "[9, 3, 5, 7]\n"
     ]
    }
   ],
   "source": [
    "arr=[]\n",
    "n=int(input(\"enter how many number are their in the array  \" ))\n",
    "for i in range(0,n):\n",
    "    ele=int(input(\"enter \"+str(i+1)+\" element in the array \"))\n",
    "    arr.append(ele)\n",
    "split_index=int(input(\"enter the index after which u want to split \"))\n",
    "n=len(arr)\n",
    "x=splitArr(arr,n,split_index)\n",
    "print(x)"
   ]
  },
  {
   "cell_type": "code",
   "execution_count": 40,
   "id": "b666c5d7",
   "metadata": {},
   "outputs": [],
   "source": [
    "def isMonotonic(A):\n",
    "  \n",
    "    return (all(A[i] <= A[i + 1] for i in range(len(A) - 1)) or\n",
    "            all(A[i] >= A[i + 1] for i in range(len(A) - 1)))\n",
    "\n",
    "\n",
    "\n",
    "\n",
    "\n",
    "\n",
    "\n",
    "    "
   ]
  },
  {
   "cell_type": "code",
   "execution_count": 41,
   "id": "73ecd32e",
   "metadata": {},
   "outputs": [
    {
     "name": "stdout",
     "output_type": "stream",
     "text": [
      "enter how many number are their in the array  5\n",
      "enter 1 element in the array 23\n",
      "enter 2 element in the array 45\n",
      "enter 3 element in the array 67\n",
      "enter 4 element in the array 89\n",
      "enter 5 element in the array 99\n",
      "True\n"
     ]
    }
   ],
   "source": [
    "arr=[]\n",
    "n=int(input(\"enter how many number are their in the array  \" ))\n",
    "for i in range(0,n):\n",
    "    ele=int(input(\"enter \"+str(i+1)+\" element in the array \"))\n",
    "    arr.append(ele)\n",
    "print(isMonotonic(arr),)"
   ]
  },
  {
   "cell_type": "code",
   "execution_count": null,
   "id": "4256d1e7",
   "metadata": {},
   "outputs": [],
   "source": []
  }
 ],
 "metadata": {
  "kernelspec": {
   "display_name": "Python 3 (ipykernel)",
   "language": "python",
   "name": "python3"
  },
  "language_info": {
   "codemirror_mode": {
    "name": "ipython",
    "version": 3
   },
   "file_extension": ".py",
   "mimetype": "text/x-python",
   "name": "python",
   "nbconvert_exporter": "python",
   "pygments_lexer": "ipython3",
   "version": "3.9.7"
  }
 },
 "nbformat": 4,
 "nbformat_minor": 5
}
