{
 "cells": [
  {
   "cell_type": "markdown",
   "id": "50c7ad63",
   "metadata": {},
   "source": [
    "Question1-1.Write a Python Program to Find LCM?"
   ]
  },
  {
   "cell_type": "code",
   "execution_count": 5,
   "id": "91c076af",
   "metadata": {},
   "outputs": [
    {
     "name": "stdout",
     "output_type": "stream",
     "text": [
      "enter how many number's LCM you want  5\n",
      "enter 1 number 2\n",
      "enter 2 number 7\n",
      "enter 3 number 3\n",
      "enter 4 number 9\n",
      "enter 5 number 4\n",
      "lcm of 5 numbers that you provide  is 252 \n"
     ]
    }
   ],
   "source": [
    " l=[]\n",
    "n=int(input(\"enter how many number's LCM you want  \" ))\n",
    "for i in range(0,n):\n",
    "    ele=int(input(\"enter\"+\" \"+str(i+1)+\" number \"))\n",
    "    l.append(ele)\n",
    "lcm=l[0]\n",
    "for i in range(1,len(l)):\n",
    "    lcm=LCM(lcm,l[i])\n",
    "print(\"lcm of {} numbers that you provide  is {} \".format(n,lcm))"
   ]
  },
  {
   "cell_type": "code",
   "execution_count": 4,
   "id": "68ed4ed1",
   "metadata": {},
   "outputs": [],
   "source": [
    "def LCM(a,b):\n",
    "    if a>b:\n",
    "        num=a\n",
    "        dim=b\n",
    "    else:\n",
    "        num=b\n",
    "        dim=a\n",
    "        \n",
    "    while(True):\n",
    "        rem=num%dim\n",
    "        num=dim\n",
    "        if(rem!=0):\n",
    "            dim=rem\n",
    "        else:\n",
    "            break\n",
    "    return int(a*b/dim)"
   ]
  },
  {
   "cell_type": "markdown",
   "id": "7145455b",
   "metadata": {},
   "source": [
    "Question2 2.Write a Python Program to Find HCF?"
   ]
  },
  {
   "cell_type": "code",
   "execution_count": 3,
   "id": "04c86c14",
   "metadata": {},
   "outputs": [
    {
     "name": "stdout",
     "output_type": "stream",
     "text": [
      "enter how many number's HCF you want  4\n",
      "enter 1 number18\n",
      "enter 2 number34\n",
      "enter 3 number16\n",
      "enter 4 number42\n",
      "gcd of 4 numbers is 2 \n"
     ]
    }
   ],
   "source": [
    "l=[]\n",
    "n=int(input(\"enter how many number's HCF you want  \" ))\n",
    "for i in range(0,n):\n",
    "    ele=int(input(\"enter\"+\" \"+str(i+1)+\" number \"))\n",
    "    l.append(ele)\n",
    "    gcd=l[0]\n",
    "for i in range(1,len(l)):\n",
    "    gcd=HCF(gcd,l[i])\n",
    "print(\"gcd of {} numbers that you provide  is {} \".format(n,gcd))"
   ]
  },
  {
   "cell_type": "code",
   "execution_count": 2,
   "id": "cc319b55",
   "metadata": {},
   "outputs": [],
   "source": [
    "def HCF(a,b):\n",
    "    if a>b:\n",
    "        num=a\n",
    "        dim=b\n",
    "    else:\n",
    "        num=b\n",
    "        dim=a\n",
    "        \n",
    "    while(True):\n",
    "        rem=num%dim\n",
    "        num=dim\n",
    "        if(rem!=0):\n",
    "            dim=rem\n",
    "        else:\n",
    "            break\n",
    "    return dim\n",
    "\n",
    "    \n",
    "    \n",
    "        \n",
    "    "
   ]
  },
  {
   "cell_type": "markdown",
   "id": "60707dc9",
   "metadata": {},
   "source": [
    "Question5- 5.Write a Python Program to Make a Simple Calculator with 4 basic mathematical operations?\n"
   ]
  },
  {
   "cell_type": "code",
   "execution_count": 14,
   "id": "9ad20b9c",
   "metadata": {},
   "outputs": [],
   "source": [
    "class operation:\n",
    "    def __init__(self,a,b,op):\n",
    "        if type(a)==int or type(a)==float:\n",
    "            self.a=a\n",
    "        if type(b)==int or type(b)==float:\n",
    "            self.b=b\n",
    "        if op=='+':\n",
    "             print(self.a+self.b)\n",
    "        if op=='-':\n",
    "            print(self.a-self.b)\n",
    "        if op=='*':\n",
    "            print(self.a*self.b)\n",
    "        if op=='/':\n",
    "            try:\n",
    "                res=self.a/self.b\n",
    "                print(res)\n",
    "            except Exception as e:\n",
    "                print(\"error is : \",e)\n",
    "        \n",
    "        "
   ]
  },
  {
   "cell_type": "code",
   "execution_count": 36,
   "id": "f8b8db45",
   "metadata": {},
   "outputs": [],
   "source": [
    "t=operation(34,0,'/')"
   ]
  },
  {
   "cell_type": "code",
   "execution_count": null,
   "id": "76b959ed",
   "metadata": {},
   "outputs": [],
   "source": [
    "#############        OR          #############"
   ]
  },
  {
   "cell_type": "code",
   "execution_count": 32,
   "id": "c6f15254",
   "metadata": {},
   "outputs": [],
   "source": [
    "class add:\n",
    "    def add1(self,a,b):\n",
    "        \n",
    "        if ((type(a)==int) or (type(a)==float)):\n",
    "            self.a=a\n",
    "        if ((type(b)==int) or (type(b)==float)):\n",
    "            self.b=b\n",
    "        print(self.a+self.b)\n",
    "\n",
    "class sub:\n",
    "    def sub1(self,a,b):\n",
    "        \n",
    "        if ((type(a)==int) or (type(a)==float)):\n",
    "            self.a=a\n",
    "        if type(b)==int or type(b)==float:\n",
    "            self.b=b\n",
    "        print(self.a-self.b)\n",
    "\n",
    "class mul:\n",
    "    def mul1(self,a,b):\n",
    "        \n",
    "        if type(a)==int or type(a)==float:\n",
    "            self.a=a\n",
    "        if type(b)==int or type(b)==float:\n",
    "            self.b=b\n",
    "        print(self.a*self.b)\n",
    "\n",
    "class div:\n",
    "    def div1(self,a,b):\n",
    "        \n",
    "        if type(a)==int or type(a)==float:\n",
    "            self.a=a\n",
    "        if type(b)==int or type(b)==float:\n",
    "            self.b=b\n",
    "        try:\n",
    "                res=self.a/self.b\n",
    "                print(res)\n",
    "        except Exception as e:\n",
    "                print(\"error is : \",e)\n",
    "                \n",
    "                \n",
    "class operation(add,sub,mul,div):\n",
    "    def __init__(self,op,x,y):\n",
    "        super(operation,self).__init__()\n",
    "        if op=='+':\n",
    "            return self.add1(x,y)\n",
    "        if op=='-':\n",
    "            return self.sub1(x,y)\n",
    "        if op=='*':\n",
    "            return self.mul1(x,y)\n",
    "        if op=='/':\n",
    "            return self.div1(x,y)\n",
    "            \n",
    "        \n",
    "    \n",
    "        \n",
    "       \n",
    "    "
   ]
  },
  {
   "cell_type": "code",
   "execution_count": 35,
   "id": "b63b0293",
   "metadata": {},
   "outputs": [
    {
     "name": "stdout",
     "output_type": "stream",
     "text": [
      "error is :  division by zero\n"
     ]
    }
   ],
   "source": [
    "x=operation('/',7,0)"
   ]
  },
  {
   "cell_type": "markdown",
   "id": "a91f9c56",
   "metadata": {},
   "source": [
    "question3 3.Write a Python Program to Convert Decimal to Binary, Octal and Hexadecimal?"
   ]
  },
  {
   "cell_type": "code",
   "execution_count": 41,
   "id": "96ace377",
   "metadata": {},
   "outputs": [
    {
     "name": "stdout",
     "output_type": "stream",
     "text": [
      "enter the number in decimal56\n",
      "The decimal value of 56 is:\n",
      "0b111000 in binary.\n",
      "0o70 in octal.\n",
      "0x38 in hexadecimal.\n"
     ]
    }
   ],
   "source": [
    "decimal_no=int(input(\"enter the number in decimal\"))\n",
    "\n",
    "print(\"The decimal value of\", decimal_no, \"is:\")\n",
    "print(bin(decimal_no), \"in binary.\")\n",
    "print(oct(decimal_no), \"in octal.\")\n",
    "print(hex(decimal_no), \"in hexadecimal.\")"
   ]
  },
  {
   "cell_type": "markdown",
   "id": "0b604c6d",
   "metadata": {},
   "source": [
    "Question 4 -4.Write a Python Program To Find ASCII value of a character?"
   ]
  },
  {
   "cell_type": "code",
   "execution_count": 43,
   "id": "178d3d69",
   "metadata": {},
   "outputs": [
    {
     "name": "stdout",
     "output_type": "stream",
     "text": [
      "enter the characterh\n",
      "The ASCII value of 'h' is 104\n"
     ]
    }
   ],
   "source": [
    "\n",
    "ch = input(\"enter the character\")\n",
    "print(\"The ASCII value of '\" + ch + \"' is\", ord(ch))"
   ]
  },
  {
   "cell_type": "code",
   "execution_count": null,
   "id": "2aaf164c",
   "metadata": {},
   "outputs": [],
   "source": []
  }
 ],
 "metadata": {
  "kernelspec": {
   "display_name": "Python 3 (ipykernel)",
   "language": "python",
   "name": "python3"
  },
  "language_info": {
   "codemirror_mode": {
    "name": "ipython",
    "version": 3
   },
   "file_extension": ".py",
   "mimetype": "text/x-python",
   "name": "python",
   "nbconvert_exporter": "python",
   "pygments_lexer": "ipython3",
   "version": "3.9.7"
  }
 },
 "nbformat": 4,
 "nbformat_minor": 5
}
